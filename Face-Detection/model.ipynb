{
 "cells": [
  {
   "cell_type": "markdown",
   "id": "cfd59397",
   "metadata": {},
   "source": [
    "### step-01,installing dependenncies"
   ]
  },
  {
   "cell_type": "code",
   "execution_count": 1,
   "id": "426bf0b0",
   "metadata": {},
   "outputs": [
    {
     "name": "stdout",
     "output_type": "stream",
     "text": [
      "Requirement already satisfied: tensorflow==2.10.0 in c:\\users\\piyush\\.conda\\envs\\py310\\lib\\site-packages (2.10.0)\n",
      "Requirement already satisfied: tensorflow-gpu==2.10.0 in c:\\users\\piyush\\.conda\\envs\\py310\\lib\\site-packages (2.10.0)\n",
      "Requirement already satisfied: opencv-python in c:\\users\\piyush\\.conda\\envs\\py310\\lib\\site-packages (4.9.0.80)\n",
      "Requirement already satisfied: matplotlib in c:\\users\\piyush\\.conda\\envs\\py310\\lib\\site-packages (3.8.3)\n",
      "Requirement already satisfied: absl-py>=1.0.0 in c:\\users\\piyush\\.conda\\envs\\py310\\lib\\site-packages (from tensorflow==2.10.0) (2.1.0)\n",
      "Requirement already satisfied: astunparse>=1.6.0 in c:\\users\\piyush\\.conda\\envs\\py310\\lib\\site-packages (from tensorflow==2.10.0) (1.6.3)\n",
      "Requirement already satisfied: flatbuffers>=2.0 in c:\\users\\piyush\\.conda\\envs\\py310\\lib\\site-packages (from tensorflow==2.10.0) (24.3.7)\n",
      "Requirement already satisfied: gast<=0.4.0,>=0.2.1 in c:\\users\\piyush\\.conda\\envs\\py310\\lib\\site-packages (from tensorflow==2.10.0) (0.4.0)\n",
      "Requirement already satisfied: google-pasta>=0.1.1 in c:\\users\\piyush\\.conda\\envs\\py310\\lib\\site-packages (from tensorflow==2.10.0) (0.2.0)\n",
      "Requirement already satisfied: h5py>=2.9.0 in c:\\users\\piyush\\.conda\\envs\\py310\\lib\\site-packages (from tensorflow==2.10.0) (3.10.0)\n",
      "Requirement already satisfied: keras-preprocessing>=1.1.1 in c:\\users\\piyush\\.conda\\envs\\py310\\lib\\site-packages (from tensorflow==2.10.0) (1.1.2)\n",
      "Requirement already satisfied: libclang>=13.0.0 in c:\\users\\piyush\\.conda\\envs\\py310\\lib\\site-packages (from tensorflow==2.10.0) (16.0.6)\n",
      "Requirement already satisfied: numpy>=1.20 in c:\\users\\piyush\\.conda\\envs\\py310\\lib\\site-packages (from tensorflow==2.10.0) (1.26.4)\n",
      "Requirement already satisfied: opt-einsum>=2.3.2 in c:\\users\\piyush\\.conda\\envs\\py310\\lib\\site-packages (from tensorflow==2.10.0) (3.3.0)\n",
      "Requirement already satisfied: packaging in c:\\users\\piyush\\.conda\\envs\\py310\\lib\\site-packages (from tensorflow==2.10.0) (23.2)\n",
      "Requirement already satisfied: protobuf<3.20,>=3.9.2 in c:\\users\\piyush\\.conda\\envs\\py310\\lib\\site-packages (from tensorflow==2.10.0) (3.19.6)\n",
      "Requirement already satisfied: setuptools in c:\\users\\piyush\\.conda\\envs\\py310\\lib\\site-packages (from tensorflow==2.10.0) (68.2.2)\n",
      "Requirement already satisfied: six>=1.12.0 in c:\\users\\piyush\\.conda\\envs\\py310\\lib\\site-packages (from tensorflow==2.10.0) (1.16.0)\n",
      "Requirement already satisfied: termcolor>=1.1.0 in c:\\users\\piyush\\.conda\\envs\\py310\\lib\\site-packages (from tensorflow==2.10.0) (2.4.0)\n",
      "Requirement already satisfied: typing-extensions>=3.6.6 in c:\\users\\piyush\\.conda\\envs\\py310\\lib\\site-packages (from tensorflow==2.10.0) (4.10.0)\n",
      "Requirement already satisfied: wrapt>=1.11.0 in c:\\users\\piyush\\.conda\\envs\\py310\\lib\\site-packages (from tensorflow==2.10.0) (1.16.0)\n",
      "Requirement already satisfied: tensorflow-io-gcs-filesystem>=0.23.1 in c:\\users\\piyush\\.conda\\envs\\py310\\lib\\site-packages (from tensorflow==2.10.0) (0.31.0)\n",
      "Requirement already satisfied: grpcio<2.0,>=1.24.3 in c:\\users\\piyush\\.conda\\envs\\py310\\lib\\site-packages (from tensorflow==2.10.0) (1.62.0)\n",
      "Requirement already satisfied: tensorboard<2.11,>=2.10 in c:\\users\\piyush\\.conda\\envs\\py310\\lib\\site-packages (from tensorflow==2.10.0) (2.10.1)\n",
      "Requirement already satisfied: tensorflow-estimator<2.11,>=2.10.0 in c:\\users\\piyush\\.conda\\envs\\py310\\lib\\site-packages (from tensorflow==2.10.0) (2.10.0)\n",
      "Requirement already satisfied: keras<2.11,>=2.10.0 in c:\\users\\piyush\\.conda\\envs\\py310\\lib\\site-packages (from tensorflow==2.10.0) (2.10.0)\n",
      "Requirement already satisfied: contourpy>=1.0.1 in c:\\users\\piyush\\.conda\\envs\\py310\\lib\\site-packages (from matplotlib) (1.2.0)\n",
      "Requirement already satisfied: cycler>=0.10 in c:\\users\\piyush\\.conda\\envs\\py310\\lib\\site-packages (from matplotlib) (0.12.1)\n",
      "Requirement already satisfied: fonttools>=4.22.0 in c:\\users\\piyush\\.conda\\envs\\py310\\lib\\site-packages (from matplotlib) (4.49.0)\n",
      "Requirement already satisfied: kiwisolver>=1.3.1 in c:\\users\\piyush\\.conda\\envs\\py310\\lib\\site-packages (from matplotlib) (1.4.5)\n",
      "Requirement already satisfied: pillow>=8 in c:\\users\\piyush\\.conda\\envs\\py310\\lib\\site-packages (from matplotlib) (10.2.0)\n",
      "Requirement already satisfied: pyparsing>=2.3.1 in c:\\users\\piyush\\.conda\\envs\\py310\\lib\\site-packages (from matplotlib) (3.1.2)\n",
      "Requirement already satisfied: python-dateutil>=2.7 in c:\\users\\piyush\\.conda\\envs\\py310\\lib\\site-packages (from matplotlib) (2.9.0)\n",
      "Requirement already satisfied: wheel<1.0,>=0.23.0 in c:\\users\\piyush\\.conda\\envs\\py310\\lib\\site-packages (from astunparse>=1.6.0->tensorflow==2.10.0) (0.41.2)\n",
      "Requirement already satisfied: google-auth<3,>=1.6.3 in c:\\users\\piyush\\.conda\\envs\\py310\\lib\\site-packages (from tensorboard<2.11,>=2.10->tensorflow==2.10.0) (2.28.1)\n",
      "Requirement already satisfied: google-auth-oauthlib<0.5,>=0.4.1 in c:\\users\\piyush\\.conda\\envs\\py310\\lib\\site-packages (from tensorboard<2.11,>=2.10->tensorflow==2.10.0) (0.4.6)\n",
      "Requirement already satisfied: markdown>=2.6.8 in c:\\users\\piyush\\.conda\\envs\\py310\\lib\\site-packages (from tensorboard<2.11,>=2.10->tensorflow==2.10.0) (3.5.2)\n",
      "Requirement already satisfied: requests<3,>=2.21.0 in c:\\users\\piyush\\.conda\\envs\\py310\\lib\\site-packages (from tensorboard<2.11,>=2.10->tensorflow==2.10.0) (2.31.0)\n",
      "Requirement already satisfied: tensorboard-data-server<0.7.0,>=0.6.0 in c:\\users\\piyush\\.conda\\envs\\py310\\lib\\site-packages (from tensorboard<2.11,>=2.10->tensorflow==2.10.0) (0.6.1)\n",
      "Requirement already satisfied: tensorboard-plugin-wit>=1.6.0 in c:\\users\\piyush\\.conda\\envs\\py310\\lib\\site-packages (from tensorboard<2.11,>=2.10->tensorflow==2.10.0) (1.8.1)\n",
      "Requirement already satisfied: werkzeug>=1.0.1 in c:\\users\\piyush\\.conda\\envs\\py310\\lib\\site-packages (from tensorboard<2.11,>=2.10->tensorflow==2.10.0) (3.0.1)\n",
      "Requirement already satisfied: cachetools<6.0,>=2.0.0 in c:\\users\\piyush\\.conda\\envs\\py310\\lib\\site-packages (from google-auth<3,>=1.6.3->tensorboard<2.11,>=2.10->tensorflow==2.10.0) (5.3.3)\n",
      "Requirement already satisfied: pyasn1-modules>=0.2.1 in c:\\users\\piyush\\.conda\\envs\\py310\\lib\\site-packages (from google-auth<3,>=1.6.3->tensorboard<2.11,>=2.10->tensorflow==2.10.0) (0.3.0)\n",
      "Requirement already satisfied: rsa<5,>=3.1.4 in c:\\users\\piyush\\.conda\\envs\\py310\\lib\\site-packages (from google-auth<3,>=1.6.3->tensorboard<2.11,>=2.10->tensorflow==2.10.0) (4.9)\n",
      "Requirement already satisfied: requests-oauthlib>=0.7.0 in c:\\users\\piyush\\.conda\\envs\\py310\\lib\\site-packages (from google-auth-oauthlib<0.5,>=0.4.1->tensorboard<2.11,>=2.10->tensorflow==2.10.0) (1.3.1)\n",
      "Requirement already satisfied: charset-normalizer<4,>=2 in c:\\users\\piyush\\.conda\\envs\\py310\\lib\\site-packages (from requests<3,>=2.21.0->tensorboard<2.11,>=2.10->tensorflow==2.10.0) (3.3.2)\n",
      "Requirement already satisfied: idna<4,>=2.5 in c:\\users\\piyush\\.conda\\envs\\py310\\lib\\site-packages (from requests<3,>=2.21.0->tensorboard<2.11,>=2.10->tensorflow==2.10.0) (3.6)\n",
      "Requirement already satisfied: urllib3<3,>=1.21.1 in c:\\users\\piyush\\.conda\\envs\\py310\\lib\\site-packages (from requests<3,>=2.21.0->tensorboard<2.11,>=2.10->tensorflow==2.10.0) (2.2.1)\n",
      "Requirement already satisfied: certifi>=2017.4.17 in c:\\users\\piyush\\.conda\\envs\\py310\\lib\\site-packages (from requests<3,>=2.21.0->tensorboard<2.11,>=2.10->tensorflow==2.10.0) (2024.2.2)\n",
      "Requirement already satisfied: MarkupSafe>=2.1.1 in c:\\users\\piyush\\.conda\\envs\\py310\\lib\\site-packages (from werkzeug>=1.0.1->tensorboard<2.11,>=2.10->tensorflow==2.10.0) (2.1.5)\n",
      "Requirement already satisfied: pyasn1<0.6.0,>=0.4.6 in c:\\users\\piyush\\.conda\\envs\\py310\\lib\\site-packages (from pyasn1-modules>=0.2.1->google-auth<3,>=1.6.3->tensorboard<2.11,>=2.10->tensorflow==2.10.0) (0.5.1)\n",
      "Requirement already satisfied: oauthlib>=3.0.0 in c:\\users\\piyush\\.conda\\envs\\py310\\lib\\site-packages (from requests-oauthlib>=0.7.0->google-auth-oauthlib<0.5,>=0.4.1->tensorboard<2.11,>=2.10->tensorflow==2.10.0) (3.2.2)\n",
      "Note: you may need to restart the kernel to use updated packages.\n"
     ]
    }
   ],
   "source": [
    "pip install tensorflow==2.10.0 tensorflow-gpu==2.10.0 opencv-python matplotlib\n"
   ]
  },
  {
   "cell_type": "markdown",
   "id": "8f25b422",
   "metadata": {},
   "source": [
    "### step-02, import dependecies"
   ]
  },
  {
   "cell_type": "code",
   "execution_count": 2,
   "id": "4465ded3",
   "metadata": {},
   "outputs": [],
   "source": [
    "import cv2 #computer vision, collecting images thorugh webcam\n",
    "import os\n",
    "import random\n",
    "import numpy as np#helps working with tensors, array transformation\n",
    "from matplotlib import pyplot as plt\n",
    "import shutil"
   ]
  },
  {
   "cell_type": "code",
   "execution_count": 3,
   "id": "a10eb692",
   "metadata": {},
   "outputs": [],
   "source": [
    "# Import tensorflow dependencies - Functional API\n",
    "from tensorflow.keras.models import Model # un, used to define input and output in model\n",
    "from tensorflow.keras.layers import Layer, Conv2D, Dense, MaxPooling2D, Input, Flatten\n",
    "import tensorflow as tf"
   ]
  },
  {
   "cell_type": "markdown",
   "id": "bbc03c8c",
   "metadata": {},
   "source": [
    "### step-03, setting GPU Growth"
   ]
  },
  {
   "cell_type": "code",
   "execution_count": 4,
   "id": "dcab2556",
   "metadata": {},
   "outputs": [],
   "source": [
    "#avoid oom errors by setting GPU memory COnsumption Growth\n",
    "gpus= tf.config.experimental.list_physical_devices('GPU')\n",
    "for gpu in gpus:\n",
    "    tf.config.experimental.set_memory_growth(gpu, True)"
   ]
  },
  {
   "cell_type": "markdown",
   "id": "735387fa",
   "metadata": {},
   "source": [
    "### step-4, create folder structures"
   ]
  },
  {
   "cell_type": "code",
   "execution_count": 12,
   "id": "eff9c0d8",
   "metadata": {},
   "outputs": [],
   "source": [
    "#setting up the paths\n",
    "\n",
    "POS_PATH= os.path.join('data', 'positive')\n",
    "NEG_PATH= os.path.join('data', 'negative')\n",
    "ANC_PATH= os.path.join('data', 'anchor')"
   ]
  },
  {
   "cell_type": "code",
   "execution_count": 13,
   "id": "f3518002",
   "metadata": {},
   "outputs": [
    {
     "ename": "FileExistsError",
     "evalue": "[WinError 183] Cannot create a file when that file already exists: 'data\\\\positive'",
     "output_type": "error",
     "traceback": [
      "\u001b[1;31m---------------------------------------------------------------------------\u001b[0m",
      "\u001b[1;31mFileExistsError\u001b[0m                           Traceback (most recent call last)",
      "Cell \u001b[1;32mIn[13], line 2\u001b[0m\n\u001b[0;32m      1\u001b[0m \u001b[38;5;66;03m#making directories\u001b[39;00m\n\u001b[1;32m----> 2\u001b[0m \u001b[43mos\u001b[49m\u001b[38;5;241;43m.\u001b[39;49m\u001b[43mmakedirs\u001b[49m\u001b[43m(\u001b[49m\u001b[43mPOS_PATH\u001b[49m\u001b[43m)\u001b[49m\n\u001b[0;32m      3\u001b[0m os\u001b[38;5;241m.\u001b[39mmakedirs(NEG_PATH)\n\u001b[0;32m      4\u001b[0m os\u001b[38;5;241m.\u001b[39mmakedirs(ANC_PATH)\n",
      "File \u001b[1;32mc:\\Users\\Piyush\\.conda\\envs\\py310\\lib\\os.py:225\u001b[0m, in \u001b[0;36mmakedirs\u001b[1;34m(name, mode, exist_ok)\u001b[0m\n\u001b[0;32m    223\u001b[0m         \u001b[38;5;28;01mreturn\u001b[39;00m\n\u001b[0;32m    224\u001b[0m \u001b[38;5;28;01mtry\u001b[39;00m:\n\u001b[1;32m--> 225\u001b[0m     \u001b[43mmkdir\u001b[49m\u001b[43m(\u001b[49m\u001b[43mname\u001b[49m\u001b[43m,\u001b[49m\u001b[43m \u001b[49m\u001b[43mmode\u001b[49m\u001b[43m)\u001b[49m\n\u001b[0;32m    226\u001b[0m \u001b[38;5;28;01mexcept\u001b[39;00m \u001b[38;5;167;01mOSError\u001b[39;00m:\n\u001b[0;32m    227\u001b[0m     \u001b[38;5;66;03m# Cannot rely on checking for EEXIST, since the operating system\u001b[39;00m\n\u001b[0;32m    228\u001b[0m     \u001b[38;5;66;03m# could give priority to other errors like EACCES or EROFS\u001b[39;00m\n\u001b[0;32m    229\u001b[0m     \u001b[38;5;28;01mif\u001b[39;00m \u001b[38;5;129;01mnot\u001b[39;00m exist_ok \u001b[38;5;129;01mor\u001b[39;00m \u001b[38;5;129;01mnot\u001b[39;00m path\u001b[38;5;241m.\u001b[39misdir(name):\n",
      "\u001b[1;31mFileExistsError\u001b[0m: [WinError 183] Cannot create a file when that file already exists: 'data\\\\positive'"
     ]
    }
   ],
   "source": [
    "#making directories\n",
    "os.makedirs(POS_PATH)\n",
    "os.makedirs(NEG_PATH)\n",
    "os.makedirs(ANC_PATH)"
   ]
  },
  {
   "cell_type": "markdown",
   "id": "913fbace",
   "metadata": {},
   "source": [
    "### 2. Collect Positives and Anchors"
   ]
  },
  {
   "cell_type": "code",
   "execution_count": 10,
   "id": "9aff2de1",
   "metadata": {},
   "outputs": [],
   "source": [
    "# http://vis-www.cs.umass.edu/lfw/\n"
   ]
  },
  {
   "cell_type": "code",
   "execution_count": 14,
   "id": "5dad3983",
   "metadata": {},
   "outputs": [
    {
     "ename": "FileNotFoundError",
     "evalue": "[WinError 3] The system cannot find the path specified: 'lfw'",
     "output_type": "error",
     "traceback": [
      "\u001b[1;31m---------------------------------------------------------------------------\u001b[0m",
      "\u001b[1;31mFileNotFoundError\u001b[0m                         Traceback (most recent call last)",
      "Cell \u001b[1;32mIn[14], line 3\u001b[0m\n\u001b[0;32m      1\u001b[0m \u001b[38;5;66;03m#movin lfw imagees to negative repo data/negative\u001b[39;00m\n\u001b[1;32m----> 3\u001b[0m \u001b[38;5;28;01mfor\u001b[39;00m directory \u001b[38;5;129;01min\u001b[39;00m \u001b[43mos\u001b[49m\u001b[38;5;241;43m.\u001b[39;49m\u001b[43mlistdir\u001b[49m\u001b[43m(\u001b[49m\u001b[38;5;124;43m'\u001b[39;49m\u001b[38;5;124;43mlfw\u001b[39;49m\u001b[38;5;124;43m'\u001b[39;49m\u001b[43m)\u001b[49m:\n\u001b[0;32m      4\u001b[0m     \u001b[38;5;28;01mfor\u001b[39;00m file \u001b[38;5;129;01min\u001b[39;00m os\u001b[38;5;241m.\u001b[39mlistdir(os\u001b[38;5;241m.\u001b[39mpath\u001b[38;5;241m.\u001b[39mjoin(\u001b[38;5;124m'\u001b[39m\u001b[38;5;124mlfw\u001b[39m\u001b[38;5;124m'\u001b[39m, directory)):\n\u001b[0;32m      5\u001b[0m         EX_PATH\u001b[38;5;241m=\u001b[39mos\u001b[38;5;241m.\u001b[39mpath\u001b[38;5;241m.\u001b[39mjoin(\u001b[38;5;124m'\u001b[39m\u001b[38;5;124mlfw\u001b[39m\u001b[38;5;124m'\u001b[39m, directory, file)\n",
      "\u001b[1;31mFileNotFoundError\u001b[0m: [WinError 3] The system cannot find the path specified: 'lfw'"
     ]
    }
   ],
   "source": [
    "#movin lfw imagees to negative repo data/negative\n",
    "\n",
    "for directory in os.listdir('lfw'):\n",
    "    for file in os.listdir(os.path.join('lfw', directory)):\n",
    "        EX_PATH=os.path.join('lfw', directory, file)\n",
    "        NEW_PATH=os.path.join(NEG_PATH, file)\n",
    "        shutil.move(EX_PATH, NEG_PATH) #move from old path to the new path"
   ]
  },
  {
   "cell_type": "markdown",
   "id": "2cff3be4",
   "metadata": {},
   "source": [
    "### step 2.1, collect positives and anchor classes"
   ]
  },
  {
   "cell_type": "code",
   "execution_count": 6,
   "id": "b4fb2a38",
   "metadata": {},
   "outputs": [],
   "source": [
    "import uuid #to generate unique image name"
   ]
  },
  {
   "cell_type": "code",
   "execution_count": 7,
   "id": "c7b9448a",
   "metadata": {},
   "outputs": [
    {
     "data": {
      "text/plain": [
       "UUID('8a5132f8-df7d-11ee-b3cb-f42679727d91')"
      ]
     },
     "execution_count": 7,
     "metadata": {},
     "output_type": "execute_result"
    }
   ],
   "source": [
    "uuid.uuid1()"
   ]
  },
  {
   "cell_type": "code",
   "execution_count": 15,
   "id": "31e4e030",
   "metadata": {},
   "outputs": [],
   "source": [
    "cap =cv2.VideoCapture(0) #connection to videocam\n",
    "while cap.isOpened():\n",
    "    ret, frame=cap.read() #reading the captured image\n",
    "\n",
    "    #adjusting the frame size according to our requirements, 250*250px\n",
    "    frame=frame[200:200+250, 200:180+250, :]\n",
    "\n",
    "    #colllect anchors\n",
    "    if cv2.waitKey(1) & 0XFF==ord('a'):\n",
    "        #creating unique name\n",
    "        imgname=os.path.join(ANC_PATH, '{}.jpg'.format(uuid.uuid1()))\n",
    "        #write out anchor image\n",
    "        cv2.imwrite(imgname, frame)\n",
    "\n",
    "    #collect positives\n",
    "    if cv2.waitKey(1) & 0XFF==ord('p'):\n",
    "        #creating unique name\n",
    "        imgname=os.path.join(POS_PATH, '{}.jpg'.format(uuid.uuid1()))\n",
    "        #write out anchor image\n",
    "        cv2.imwrite(imgname, frame)\n",
    "\n",
    "    \n",
    "    cv2.imshow('Image Collection', frame) #rendering the image\n",
    "\n",
    "    #breaking gracefully\n",
    "    if cv2.waitKey(1) & 0XFF==ord('q'): #gonna wait for 1 milisecond and check which key is pressed \n",
    "        break\n",
    "\n",
    "#release the webcam\n",
    "cap.release()\n",
    "cv2.destroyAllWindows()\n",
    "\n"
   ]
  },
  {
   "cell_type": "markdown",
   "id": "ca078952",
   "metadata": {},
   "source": [
    "## preparing the data for deep learning\n",
    "\n"
   ]
  },
  {
   "cell_type": "markdown",
   "id": "5ef0e3fb",
   "metadata": {},
   "source": [
    "step 3.1, getting image directories"
   ]
  },
  {
   "cell_type": "code",
   "execution_count": 19,
   "id": "d6fcabdd",
   "metadata": {},
   "outputs": [],
   "source": [
    "anchor=tf.data.Dataset.list_files(ANC_PATH+'\\*.jpg').take(100) #to grab all the image files in the specified directory\n",
    "positive=tf.data.Dataset.list_files(POS_PATH+'\\*.jpg').take(100) #take(100) mean we will be using 100 images from the dataset\n",
    "negative=tf.data.Dataset.list_files(NEG_PATH+'\\*.jpg').take(100)"
   ]
  },
  {
   "cell_type": "code",
   "execution_count": 20,
   "id": "f132ee2c",
   "metadata": {},
   "outputs": [],
   "source": [
    "dir_test= anchor.as_numpy_iterator()"
   ]
  },
  {
   "cell_type": "code",
   "execution_count": 21,
   "id": "3805707f",
   "metadata": {},
   "outputs": [
    {
     "data": {
      "text/plain": [
       "b'data\\\\anchor\\\\5a9659eb-deb0-11ee-96f1-f42679727d91.jpg'"
      ]
     },
     "execution_count": 21,
     "metadata": {},
     "output_type": "execute_result"
    }
   ],
   "source": [
    "dir_test.next()"
   ]
  },
  {
   "cell_type": "markdown",
   "id": "2041321e",
   "metadata": {},
   "source": [
    "step 3.2, preprocessing -scale and resize"
   ]
  },
  {
   "cell_type": "code",
   "execution_count": 22,
   "id": "8732e0b4",
   "metadata": {},
   "outputs": [],
   "source": [
    "def preprocess(file_path):\n",
    "    #read image from dataset\n",
    "    byte_img= tf.io.read_file(file_path)\n",
    "    \n",
    "    #load in the image\n",
    "    img=tf.io.decode_jpeg(byte_img)\n",
    "    \n",
    "    #preprocessing the image, adjusting pixels and shape, size\n",
    "    img=tf.image.resize(img, (100, 100))\n",
    "    \n",
    "    #scaling the image between 0 and 1, to help us in gradient descent and help us optmize the model\n",
    "    img=img/255.0\n",
    "    return img\n",
    "\n"
   ]
  },
  {
   "cell_type": "code",
   "execution_count": 23,
   "id": "c5632600",
   "metadata": {},
   "outputs": [],
   "source": [
    "img=preprocess('data\\\\anchor\\\\3d97cb21-deb0-11ee-ae75-f42679727d91.jpg')"
   ]
  },
  {
   "cell_type": "code",
   "execution_count": 24,
   "id": "e9eba5af",
   "metadata": {},
   "outputs": [
    {
     "data": {
      "text/plain": [
       "1.0"
      ]
     },
     "execution_count": 24,
     "metadata": {},
     "output_type": "execute_result"
    }
   ],
   "source": [
    "img.numpy().max()"
   ]
  },
  {
   "cell_type": "code",
   "execution_count": 25,
   "id": "7d3b3b1c",
   "metadata": {},
   "outputs": [
    {
     "data": {
      "text/plain": [
       "<matplotlib.image.AxesImage at 0x1ca33ac00d0>"
      ]
     },
     "execution_count": 25,
     "metadata": {},
     "output_type": "execute_result"
    },
    {
     "data": {
      "image/png": "[encoded data removed]",
      "text/plain": [
       "<Figure size 640x480 with 1 Axes>"
      ]
     },
     "metadata": {},
     "output_type": "display_data"
    }
   ],
   "source": [
    "plt.imshow(img)"
   ]
  },
  {
   "cell_type": "markdown",
   "id": "8e0f5c49",
   "metadata": {},
   "source": [
    "### step-3.3, CREATING LABELLED DATASET"
   ]
  },
  {
   "cell_type": "code",
   "execution_count": 26,
   "id": "4061b8a2",
   "metadata": {},
   "outputs": [],
   "source": [
    "#(anchor, positive)=> 1, 1, 1, 1, 1\n",
    "#(anchor, negative)=> 0, 0, 0, 0, 0\n"
   ]
  },
  {
   "cell_type": "code",
   "execution_count": 27,
   "id": "15b69422",
   "metadata": {},
   "outputs": [],
   "source": [
    "positives=tf.data.Dataset.zip((anchor, positive, tf.data.Dataset.from_tensor_slices(tf.ones(len(anchor)))))\n",
    "negatives=tf.data.Dataset.zip((anchor, negative, tf.data.Dataset.from_tensor_slices(tf.zeros(len(anchor)))))\n",
    "data=positives.concatenate(negatives)"
   ]
  },
  {
   "cell_type": "code",
   "execution_count": 28,
   "id": "c52378ef",
   "metadata": {},
   "outputs": [],
   "source": [
    "samples= data.as_numpy_iterator()"
   ]
  },
  {
   "cell_type": "code",
   "execution_count": 29,
   "id": "b51b5c21",
   "metadata": {},
   "outputs": [],
   "source": [
    "exampple=samples.next()"
   ]
  },
  {
   "cell_type": "markdown",
   "id": "6b346c6e",
   "metadata": {},
   "source": [
    "## step-3.4, build Train and Test Partition"
   ]
  },
  {
   "cell_type": "code",
   "execution_count": 30,
   "id": "b6afb1b5",
   "metadata": {},
   "outputs": [],
   "source": [
    "def preprocess_twin(input_img, validation_img, label):\n",
    "    return(preprocess(input_img), preprocess(validation_img), label)"
   ]
  },
  {
   "cell_type": "code",
   "execution_count": 31,
   "id": "588e5192",
   "metadata": {},
   "outputs": [],
   "source": [
    "res=preprocess_twin(*exampple)"
   ]
  },
  {
   "cell_type": "code",
   "execution_count": 32,
   "id": "252231d5",
   "metadata": {},
   "outputs": [
    {
     "data": {
      "text/plain": [
       "<matplotlib.image.AxesImage at 0x1ca33b556c0>"
      ]
     },
     "execution_count": 32,
     "metadata": {},
     "output_type": "execute_result"
    },
    {
     "data": {
      "image/png": "[encoded data removed]",
      "text/plain": [
       "<Figure size 640x480 with 1 Axes>"
      ]
     },
     "metadata": {},
     "output_type": "display_data"
    }
   ],
   "source": [
    "plt.imshow(res[0])"
   ]
  },
  {
   "cell_type": "code",
   "execution_count": 33,
   "id": "db51bdb0",
   "metadata": {},
   "outputs": [
    {
     "data": {
      "text/plain": [
       "1.0"
      ]
     },
     "execution_count": 33,
     "metadata": {},
     "output_type": "execute_result"
    }
   ],
   "source": [
    "res[2]"
   ]
  },
  {
   "cell_type": "code",
   "execution_count": 34,
   "id": "947f0dfd",
   "metadata": {},
   "outputs": [],
   "source": [
    "#build dataloader pipeline\n",
    "\n",
    "data=data.map(preprocess_twin)\n",
    "data=data.cache()\n",
    "data=data.shuffle(buffer_size=1024) #mixes up all the dataset\n"
   ]
  },
  {
   "cell_type": "code",
   "execution_count": 35,
   "id": "7fdeae5c",
   "metadata": {},
   "outputs": [],
   "source": [
    "samples= data.as_numpy_iterator()"
   ]
  },
  {
   "cell_type": "code",
   "execution_count": 36,
   "id": "a3f20365",
   "metadata": {},
   "outputs": [
    {
     "data": {
      "text/plain": [
       "3"
      ]
     },
     "execution_count": 36,
     "metadata": {},
     "output_type": "execute_result"
    }
   ],
   "source": [
    "len(samples.next())"
   ]
  },
  {
   "cell_type": "code",
   "execution_count": 37,
   "id": "29768e27",
   "metadata": {},
   "outputs": [],
   "source": [
    "samp=samples.next()"
   ]
  },
  {
   "cell_type": "code",
   "execution_count": 38,
   "id": "1e20c8af",
   "metadata": {},
   "outputs": [
    {
     "data": {
      "text/plain": [
       "<matplotlib.image.AxesImage at 0x1ca33c44670>"
      ]
     },
     "execution_count": 38,
     "metadata": {},
     "output_type": "execute_result"
    },
    {
     "data": {
      "image/png": "[encoded data removed]",
      "text/plain": [
       "<Figure size 640x480 with 1 Axes>"
      ]
     },
     "metadata": {},
     "output_type": "display_data"
    }
   ],
   "source": [
    "plt.imshow(samp[0])"
   ]
  },
  {
   "cell_type": "code",
   "execution_count": 39,
   "id": "9b024f4f",
   "metadata": {},
   "outputs": [],
   "source": [
    "#training partition\n",
    "train_data=data.take(round(len(data)*7))\n",
    "train_data=train_data.batch(16)\n",
    "train_data=train_data.prefetch(8)"
   ]
  },
  {
   "cell_type": "code",
   "execution_count": 40,
   "id": "d54d829c",
   "metadata": {},
   "outputs": [
    {
     "data": {
      "text/plain": [
       "<PrefetchDataset element_spec=(TensorSpec(shape=(None, 100, 100, None), dtype=tf.float32, name=None), TensorSpec(shape=(None, 100, 100, None), dtype=tf.float32, name=None), TensorSpec(shape=(None,), dtype=tf.float32, name=None))>"
      ]
     },
     "execution_count": 40,
     "metadata": {},
     "output_type": "execute_result"
    }
   ],
   "source": [
    "train_data"
   ]
  },
  {
   "cell_type": "code",
   "execution_count": 41,
   "id": "218b65e5",
   "metadata": {},
   "outputs": [],
   "source": [
    "train_samples= train_data.as_numpy_iterator()"
   ]
  },
  {
   "cell_type": "code",
   "execution_count": 42,
   "id": "21778fa6",
   "metadata": {},
   "outputs": [],
   "source": [
    "train_sample= train_samples.next()"
   ]
  },
  {
   "cell_type": "code",
   "execution_count": 43,
   "id": "e8795dbd",
   "metadata": {},
   "outputs": [
    {
     "data": {
      "text/plain": [
       "16"
      ]
     },
     "execution_count": 43,
     "metadata": {},
     "output_type": "execute_result"
    }
   ],
   "source": [
    "len(train_sample[0])"
   ]
  },
  {
   "cell_type": "code",
   "execution_count": 44,
   "id": "643ebe85",
   "metadata": {},
   "outputs": [],
   "source": [
    "#testing partition\n",
    "test_data= data.skip(round(len(data)*.7))\n",
    "test_data=test_data.take(round(len(data)*.3))\n",
    "test_data=test_data.prefetch"
   ]
  },
  {
   "cell_type": "markdown",
   "id": "e8e6ab21",
   "metadata": {},
   "source": [
    "1. build and embedding layer\n",
    "2. create an l1 distance layer\n",
    "3. compile the siamese network"
   ]
  },
  {
   "cell_type": "markdown",
   "id": "5d0595a8",
   "metadata": {},
   "source": [
    "## Model Engineering"
   ]
  },
  {
   "cell_type": "markdown",
   "id": "7f0e0e78",
   "metadata": {},
   "source": [
    "step-01, building embedding layer"
   ]
  },
  {
   "cell_type": "code",
   "execution_count": 45,
   "id": "720009ae",
   "metadata": {},
   "outputs": [],
   "source": [
    "inp=Input(shape=(100, 100, 3))"
   ]
  },
  {
   "cell_type": "code",
   "execution_count": 46,
   "id": "12152906",
   "metadata": {},
   "outputs": [],
   "source": [
    "c1= Conv2D(64, (10, 10), activation='relu')(inp) #all the info is referenced from relu\n"
   ]
  },
  {
   "cell_type": "code",
   "execution_count": 47,
   "id": "d26b8474",
   "metadata": {},
   "outputs": [
    {
     "data": {
      "text/plain": [
       "<KerasTensor: shape=(None, 91, 91, 64) dtype=float32 (created by layer 'conv2d')>"
      ]
     },
     "execution_count": 47,
     "metadata": {},
     "output_type": "execute_result"
    }
   ],
   "source": [
    "c1"
   ]
  },
  {
   "cell_type": "code",
   "execution_count": 48,
   "id": "ea1c3f5f",
   "metadata": {},
   "outputs": [],
   "source": [
    "m1= MaxPooling2D(64, (2, 2), padding='same')(c1)\n"
   ]
  },
  {
   "cell_type": "code",
   "execution_count": 49,
   "id": "1f5a6268",
   "metadata": {},
   "outputs": [
    {
     "data": {
      "text/plain": [
       "<KerasTensor: shape=(None, 46, 46, 64) dtype=float32 (created by layer 'max_pooling2d')>"
      ]
     },
     "execution_count": 49,
     "metadata": {},
     "output_type": "execute_result"
    }
   ],
   "source": [
    "m1"
   ]
  },
  {
   "cell_type": "code",
   "execution_count": 50,
   "id": "3553ce0c",
   "metadata": {},
   "outputs": [],
   "source": [
    "c2=Conv2D(128, (7, 7), activation='relu')(m1)\n",
    "m2=MaxPooling2D(64, (2, 2), padding='same')(c2)"
   ]
  },
  {
   "cell_type": "code",
   "execution_count": 51,
   "id": "8904fdc3",
   "metadata": {},
   "outputs": [
    {
     "data": {
      "text/plain": [
       "<KerasTensor: shape=(None, 20, 20, 128) dtype=float32 (created by layer 'max_pooling2d_1')>"
      ]
     },
     "execution_count": 51,
     "metadata": {},
     "output_type": "execute_result"
    }
   ],
   "source": [
    "m2"
   ]
  },
  {
   "cell_type": "code",
   "execution_count": 52,
   "id": "a1c9fe66",
   "metadata": {},
   "outputs": [],
   "source": [
    "c3 = Conv2D(128, (4,4), activation='relu')(m2) #we need 128 filters with the shape 4*4\n",
    "m3 = MaxPooling2D(64, (2,2), padding='same')(c3)\n"
   ]
  },
  {
   "cell_type": "code",
   "execution_count": 53,
   "id": "50b7e885",
   "metadata": {},
   "outputs": [
    {
     "data": {
      "text/plain": [
       "<KerasTensor: shape=(None, 17, 17, 128) dtype=float32 (created by layer 'conv2d_2')>"
      ]
     },
     "execution_count": 53,
     "metadata": {},
     "output_type": "execute_result"
    }
   ],
   "source": [
    "c3"
   ]
  },
  {
   "cell_type": "code",
   "execution_count": 54,
   "id": "9b3e433a",
   "metadata": {},
   "outputs": [],
   "source": [
    "c4=Conv2D(128, (4, 4), activation='relu')(m3)\n",
    "f1 = Flatten()(c4)\n",
    "d1 = Dense(4096, activation='sigmoid')(f1)"
   ]
  },
  {
   "cell_type": "code",
   "execution_count": 55,
   "id": "925f1a99",
   "metadata": {},
   "outputs": [
    {
     "data": {
      "text/plain": [
       "<KerasTensor: shape=(None, 4608) dtype=float32 (created by layer 'flatten')>"
      ]
     },
     "execution_count": 55,
     "metadata": {},
     "output_type": "execute_result"
    }
   ],
   "source": [
    "f1"
   ]
  },
  {
   "cell_type": "code",
   "execution_count": 56,
   "id": "c6fe7367",
   "metadata": {},
   "outputs": [],
   "source": [
    "mod=Model(inputs=[inp], outputs=[d1], name='embedding')"
   ]
  },
  {
   "cell_type": "code",
   "execution_count": 57,
   "id": "64c36657",
   "metadata": {},
   "outputs": [
    {
     "name": "stdout",
     "output_type": "stream",
     "text": [
      "Model: \"embedding\"\n",
      "_________________________________________________________________\n",
      " Layer (type)                Output Shape              Param #   \n",
      "=================================================================\n",
      " input_1 (InputLayer)        [(None, 100, 100, 3)]     0         \n",
      "                                                                 \n",
      " conv2d (Conv2D)             (None, 91, 91, 64)        19264     \n",
      "                                                                 \n",
      " max_pooling2d (MaxPooling2D  (None, 46, 46, 64)       0         \n",
      " )                                                               \n",
      "                                                                 \n",
      " conv2d_1 (Conv2D)           (None, 40, 40, 128)       401536    \n",
      "                                                                 \n",
      " max_pooling2d_1 (MaxPooling  (None, 20, 20, 128)      0         \n",
      " 2D)                                                             \n",
      "                                                                 \n",
      " conv2d_2 (Conv2D)           (None, 17, 17, 128)       262272    \n",
      "                                                                 \n",
      " max_pooling2d_2 (MaxPooling  (None, 9, 9, 128)        0         \n",
      " 2D)                                                             \n",
      "                                                                 \n",
      " conv2d_3 (Conv2D)           (None, 6, 6, 128)         262272    \n",
      "                                                                 \n",
      " flatten (Flatten)           (None, 4608)              0         \n",
      "                                                                 \n",
      " dense (Dense)               (None, 4096)              18878464  \n",
      "                                                                 \n",
      "=================================================================\n",
      "Total params: 19,823,808\n",
      "Trainable params: 19,823,808\n",
      "Non-trainable params: 0\n",
      "_________________________________________________________________\n"
     ]
    }
   ],
   "source": [
    "mod.summary()"
   ]
  },
  {
   "cell_type": "code",
   "execution_count": 59,
   "id": "ed261371",
   "metadata": {},
   "outputs": [],
   "source": [
    "def make_embedding():\n",
    "    inp=Input(shape=(100, 100, 3), name='input_image')\n",
    "    \n",
    "    #first block\n",
    "    c1= Conv2D(64, (10, 10), activation='relu')(inp) #all the info is referenced from relu\n",
    "    m1= MaxPooling2D(64, (2, 2), padding='same')(c1)\n",
    "    \n",
    "    #second block\n",
    "    c2=Conv2D(128, (7, 7), activation='relu')(m1)\n",
    "    m2=MaxPooling2D(64, (2, 2), padding='same')(c2)\n",
    "    \n",
    "    #third block\n",
    "    c3 = Conv2D(128, (4,4), activation='relu')(m2) #we need 128 filters with the shape 4*4\n",
    "    m3 = MaxPooling2D(64, (2,2), padding='same')(c3)\n",
    "\n",
    "    #fourth block\n",
    "    c4=Conv2D(128, (4, 4), activation='relu')(m3)\n",
    "    f1 = Flatten()(c4)\n",
    "    d1 = Dense(4096, activation='sigmoid')(f1)\n",
    "\n",
    "    return Model(inputs=[inp], outputs=[d1], name='embedding')"
   ]
  },
  {
   "cell_type": "code",
   "execution_count": 71,
   "id": "63ef5312",
   "metadata": {},
   "outputs": [],
   "source": [
    "embedding=make_embedding()"
   ]
  },
  {
   "cell_type": "markdown",
   "id": "b8302952",
   "metadata": {},
   "source": [
    "## building a distance layer"
   ]
  },
  {
   "cell_type": "code",
   "execution_count": 63,
   "id": "a96f2a33",
   "metadata": {},
   "outputs": [],
   "source": [
    "#siamese l1 distance class\n",
    "\n",
    "class L1Dist(Layer):\n",
    "    def __init__(self, **kwargs): #allows us to wkr with these specifc layer\n",
    "        super().__init__()\n",
    "\n",
    "    #magic happens here, -->similarity calculation\n",
    "    def call(self, input_embedding, validation_embedding):#first river, second river \n",
    "        return tf.math.abs(input_embedding - validation_embedding) #returns an absolute value"
   ]
  },
  {
   "cell_type": "code",
   "execution_count": 65,
   "id": "a4e4c28c",
   "metadata": {},
   "outputs": [],
   "source": [
    "l1=L1Dist()"
   ]
  },
  {
   "cell_type": "code",
   "execution_count": 67,
   "id": "f8713d22",
   "metadata": {},
   "outputs": [
    {
     "ename": "NameError",
     "evalue": "name 'anchor_embedding' is not defined",
     "output_type": "error",
     "traceback": [
      "\u001b[1;31m---------------------------------------------------------------------------\u001b[0m",
      "\u001b[1;31mNameError\u001b[0m                                 Traceback (most recent call last)",
      "Cell \u001b[1;32mIn[67], line 1\u001b[0m\n\u001b[1;32m----> 1\u001b[0m l1(\u001b[43manchor_embedding\u001b[49m, validation_embedding)\n",
      "\u001b[1;31mNameError\u001b[0m: name 'anchor_embedding' is not defined"
     ]
    }
   ],
   "source": [
    "l1(anchor_embedding, validation_embedding)\n"
   ]
  },
  {
   "cell_type": "markdown",
   "id": "016c27f6",
   "metadata": {},
   "source": [
    "## making siamese model"
   ]
  },
  {
   "cell_type": "code",
   "execution_count": 68,
   "id": "cf2f186b",
   "metadata": {},
   "outputs": [],
   "source": [
    "input_image= Input(name='input_img', shape=(100, 100, 3))"
   ]
  },
  {
   "cell_type": "code",
   "execution_count": 77,
   "id": "ffd7de33",
   "metadata": {},
   "outputs": [
    {
     "ename": "NameError",
     "evalue": "name 'validation_image' is not defined",
     "output_type": "error",
     "traceback": [
      "\u001b[1;31m---------------------------------------------------------------------------\u001b[0m",
      "\u001b[1;31mNameError\u001b[0m                                 Traceback (most recent call last)",
      "Cell \u001b[1;32mIn[77], line 2\u001b[0m\n\u001b[0;32m      1\u001b[0m inp_embedding\u001b[38;5;241m=\u001b[39membedding(input_image)\n\u001b[1;32m----> 2\u001b[0m val_embedding\u001b[38;5;241m=\u001b[39membedding(\u001b[43mvalidation_image\u001b[49m)\n",
      "\u001b[1;31mNameError\u001b[0m: name 'validation_image' is not defined"
     ]
    }
   ],
   "source": [
    "inp_embedding=embedding(input_image)\n",
    "val_embedding=embedding(validation_image)"
   ]
  },
  {
   "cell_type": "code",
   "execution_count": 75,
   "id": "b234e192",
   "metadata": {},
   "outputs": [
    {
     "ename": "NameError",
     "evalue": "name 'val_embedding' is not defined",
     "output_type": "error",
     "traceback": [
      "\u001b[1;31m---------------------------------------------------------------------------\u001b[0m",
      "\u001b[1;31mNameError\u001b[0m                                 Traceback (most recent call last)",
      "Cell \u001b[1;32mIn[75], line 1\u001b[0m\n\u001b[1;32m----> 1\u001b[0m \u001b[43mval_embedding\u001b[49m\n",
      "\u001b[1;31mNameError\u001b[0m: name 'val_embedding' is not defined"
     ]
    }
   ],
   "source": [
    "val_embedding"
   ]
  },
  {
   "cell_type": "code",
   "execution_count": 79,
   "id": "200c8737",
   "metadata": {},
   "outputs": [
    {
     "ename": "NameError",
     "evalue": "name 'validation_img' is not defined",
     "output_type": "error",
     "traceback": [
      "\u001b[1;31m---------------------------------------------------------------------------\u001b[0m",
      "\u001b[1;31mNameError\u001b[0m                                 Traceback (most recent call last)",
      "Cell \u001b[1;32mIn[79], line 1\u001b[0m\n\u001b[1;32m----> 1\u001b[0m siamese_network\u001b[38;5;241m=\u001b[39mModel(inputs\u001b[38;5;241m=\u001b[39m[input_image, \u001b[43mvalidation_img\u001b[49m], outputs\u001b[38;5;241m=\u001b[39mclassifier, name\u001b[38;5;241m=\u001b[39m\u001b[38;5;124m'\u001b[39m\u001b[38;5;124mSiameseNetwork\u001b[39m\u001b[38;5;124m'\u001b[39m)\n",
      "\u001b[1;31mNameError\u001b[0m: name 'validation_img' is not defined"
     ]
    }
   ],
   "source": [
    "siamese_network=Model(inputs=[input_image, validation_img], outputs=classifier, name='SiameseNetwork')"
   ]
  },
  {
   "cell_type": "code",
   "execution_count": 80,
   "id": "7d4ddb8c",
   "metadata": {},
   "outputs": [
    {
     "ename": "NameError",
     "evalue": "name 'siamese_network' is not defined",
     "output_type": "error",
     "traceback": [
      "\u001b[1;31m---------------------------------------------------------------------------\u001b[0m",
      "\u001b[1;31mNameError\u001b[0m                                 Traceback (most recent call last)",
      "Cell \u001b[1;32mIn[80], line 1\u001b[0m\n\u001b[1;32m----> 1\u001b[0m \u001b[43msiamese_network\u001b[49m\n",
      "\u001b[1;31mNameError\u001b[0m: name 'siamese_network' is not defined"
     ]
    }
   ],
   "source": [
    "siamese_network"
   ]
  },
  {
   "cell_type": "code",
   "execution_count": 78,
   "id": "85036d50",
   "metadata": {},
   "outputs": [],
   "source": [
    "def make_siamese_model():\n",
    "\n",
    "    #handling inputs\n",
    "    input_image= Input(name=\"input_img\", shape=(100, 100, 3))\n",
    "    \n",
    "    #validation image in the network\n",
    "    validation_img=Input(name='validation_img', shape=(100, 100, 3))\n",
    "\n",
    "    #combing siamese distancing componenets\n",
    "\n",
    "    siamese_layer= L1Dist()\n",
    "    siamese_layer.name='distance'\n",
    "    distances= siamese_layer(embedding(input_image), embedding(validation_image))\n",
    "\n",
    "    #classification of layer\n",
    "    classifier=Dense(1, activation='sigmoid')(distances)\n",
    "\n",
    "    return Model(inputs=[input_image, validation_img], outputs=classifier, name='SiameseNetwork')"
   ]
  },
  {
   "cell_type": "code",
   "execution_count": null,
   "id": "84056a53",
   "metadata": {},
   "outputs": [],
   "source": []
  }
 ],
 "metadata": {
  "kernelspec": {
   "display_name": "Python 3 (ipykernel)",
   "language": "python",
   "name": "python3"
  },
  "language_info": {
   "codemirror_mode": {
    "name": "ipython",
    "version": 3
   },
   "file_extension": ".py",
   "mimetype": "text/x-python",
   "name": "python",
   "nbconvert_exporter": "python",
   "pygments_lexer": "ipython3",
   "version": "3.10.13"
  }
 },
 "nbformat": 4,
 "nbformat_minor": 5
}
