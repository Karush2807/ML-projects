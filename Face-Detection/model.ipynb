{
 "cells": [
  {
   "cell_type": "markdown",
   "id": "cfd59397",
   "metadata": {},
   "source": [
    "### step-01,installing dependenncies"
   ]
  },
  {
   "cell_type": "code",
   "execution_count": 1,
   "id": "426bf0b0",
   "metadata": {},
   "outputs": [
    {
     "name": "stdout",
     "output_type": "stream",
     "text": [
      "Requirement already satisfied: tensorflow==2.10.0 in c:\\users\\piyush\\.conda\\envs\\py310\\lib\\site-packages (2.10.0)\n",
      "Requirement already satisfied: tensorflow-gpu==2.10.0 in c:\\users\\piyush\\.conda\\envs\\py310\\lib\\site-packages (2.10.0)\n",
      "Requirement already satisfied: opencv-python in c:\\users\\piyush\\.conda\\envs\\py310\\lib\\site-packages (4.9.0.80)\n",
      "Requirement already satisfied: matplotlib in c:\\users\\piyush\\.conda\\envs\\py310\\lib\\site-packages (3.8.3)\n",
      "Requirement already satisfied: absl-py>=1.0.0 in c:\\users\\piyush\\.conda\\envs\\py310\\lib\\site-packages (from tensorflow==2.10.0) (2.1.0)\n",
      "Requirement already satisfied: astunparse>=1.6.0 in c:\\users\\piyush\\.conda\\envs\\py310\\lib\\site-packages (from tensorflow==2.10.0) (1.6.3)\n",
      "Requirement already satisfied: flatbuffers>=2.0 in c:\\users\\piyush\\.conda\\envs\\py310\\lib\\site-packages (from tensorflow==2.10.0) (24.3.7)\n",
      "Requirement already satisfied: gast<=0.4.0,>=0.2.1 in c:\\users\\piyush\\.conda\\envs\\py310\\lib\\site-packages (from tensorflow==2.10.0) (0.4.0)\n",
      "Requirement already satisfied: google-pasta>=0.1.1 in c:\\users\\piyush\\.conda\\envs\\py310\\lib\\site-packages (from tensorflow==2.10.0) (0.2.0)\n",
      "Requirement already satisfied: h5py>=2.9.0 in c:\\users\\piyush\\.conda\\envs\\py310\\lib\\site-packages (from tensorflow==2.10.0) (3.10.0)\n",
      "Requirement already satisfied: keras-preprocessing>=1.1.1 in c:\\users\\piyush\\.conda\\envs\\py310\\lib\\site-packages (from tensorflow==2.10.0) (1.1.2)\n",
      "Requirement already satisfied: libclang>=13.0.0 in c:\\users\\piyush\\.conda\\envs\\py310\\lib\\site-packages (from tensorflow==2.10.0) (16.0.6)\n",
      "Requirement already satisfied: numpy>=1.20 in c:\\users\\piyush\\.conda\\envs\\py310\\lib\\site-packages (from tensorflow==2.10.0) (1.26.4)\n",
      "Requirement already satisfied: opt-einsum>=2.3.2 in c:\\users\\piyush\\.conda\\envs\\py310\\lib\\site-packages (from tensorflow==2.10.0) (3.3.0)\n",
      "Requirement already satisfied: packaging in c:\\users\\piyush\\.conda\\envs\\py310\\lib\\site-packages (from tensorflow==2.10.0) (23.2)\n",
      "Requirement already satisfied: protobuf<3.20,>=3.9.2 in c:\\users\\piyush\\.conda\\envs\\py310\\lib\\site-packages (from tensorflow==2.10.0) (3.19.6)\n",
      "Requirement already satisfied: setuptools in c:\\users\\piyush\\.conda\\envs\\py310\\lib\\site-packages (from tensorflow==2.10.0) (68.2.2)\n",
      "Requirement already satisfied: six>=1.12.0 in c:\\users\\piyush\\.conda\\envs\\py310\\lib\\site-packages (from tensorflow==2.10.0) (1.16.0)\n",
      "Requirement already satisfied: termcolor>=1.1.0 in c:\\users\\piyush\\.conda\\envs\\py310\\lib\\site-packages (from tensorflow==2.10.0) (2.4.0)\n",
      "Requirement already satisfied: typing-extensions>=3.6.6 in c:\\users\\piyush\\.conda\\envs\\py310\\lib\\site-packages (from tensorflow==2.10.0) (4.10.0)\n",
      "Requirement already satisfied: wrapt>=1.11.0 in c:\\users\\piyush\\.conda\\envs\\py310\\lib\\site-packages (from tensorflow==2.10.0) (1.16.0)\n",
      "Requirement already satisfied: tensorflow-io-gcs-filesystem>=0.23.1 in c:\\users\\piyush\\.conda\\envs\\py310\\lib\\site-packages (from tensorflow==2.10.0) (0.31.0)\n",
      "Requirement already satisfied: grpcio<2.0,>=1.24.3 in c:\\users\\piyush\\.conda\\envs\\py310\\lib\\site-packages (from tensorflow==2.10.0) (1.62.0)\n",
      "Requirement already satisfied: tensorboard<2.11,>=2.10 in c:\\users\\piyush\\.conda\\envs\\py310\\lib\\site-packages (from tensorflow==2.10.0) (2.10.1)\n",
      "Requirement already satisfied: tensorflow-estimator<2.11,>=2.10.0 in c:\\users\\piyush\\.conda\\envs\\py310\\lib\\site-packages (from tensorflow==2.10.0) (2.10.0)\n",
      "Requirement already satisfied: keras<2.11,>=2.10.0 in c:\\users\\piyush\\.conda\\envs\\py310\\lib\\site-packages (from tensorflow==2.10.0) (2.10.0)\n",
      "Requirement already satisfied: contourpy>=1.0.1 in c:\\users\\piyush\\.conda\\envs\\py310\\lib\\site-packages (from matplotlib) (1.2.0)\n",
      "Requirement already satisfied: cycler>=0.10 in c:\\users\\piyush\\.conda\\envs\\py310\\lib\\site-packages (from matplotlib) (0.12.1)\n",
      "Requirement already satisfied: fonttools>=4.22.0 in c:\\users\\piyush\\.conda\\envs\\py310\\lib\\site-packages (from matplotlib) (4.49.0)\n",
      "Requirement already satisfied: kiwisolver>=1.3.1 in c:\\users\\piyush\\.conda\\envs\\py310\\lib\\site-packages (from matplotlib) (1.4.5)\n",
      "Requirement already satisfied: pillow>=8 in c:\\users\\piyush\\.conda\\envs\\py310\\lib\\site-packages (from matplotlib) (10.2.0)\n",
      "Requirement already satisfied: pyparsing>=2.3.1 in c:\\users\\piyush\\.conda\\envs\\py310\\lib\\site-packages (from matplotlib) (3.1.2)\n",
      "Requirement already satisfied: python-dateutil>=2.7 in c:\\users\\piyush\\.conda\\envs\\py310\\lib\\site-packages (from matplotlib) (2.9.0)\n",
      "Requirement already satisfied: wheel<1.0,>=0.23.0 in c:\\users\\piyush\\.conda\\envs\\py310\\lib\\site-packages (from astunparse>=1.6.0->tensorflow==2.10.0) (0.41.2)\n",
      "Requirement already satisfied: google-auth<3,>=1.6.3 in c:\\users\\piyush\\.conda\\envs\\py310\\lib\\site-packages (from tensorboard<2.11,>=2.10->tensorflow==2.10.0) (2.28.1)\n",
      "Requirement already satisfied: google-auth-oauthlib<0.5,>=0.4.1 in c:\\users\\piyush\\.conda\\envs\\py310\\lib\\site-packages (from tensorboard<2.11,>=2.10->tensorflow==2.10.0) (0.4.6)\n",
      "Requirement already satisfied: markdown>=2.6.8 in c:\\users\\piyush\\.conda\\envs\\py310\\lib\\site-packages (from tensorboard<2.11,>=2.10->tensorflow==2.10.0) (3.5.2)\n",
      "Requirement already satisfied: requests<3,>=2.21.0 in c:\\users\\piyush\\.conda\\envs\\py310\\lib\\site-packages (from tensorboard<2.11,>=2.10->tensorflow==2.10.0) (2.31.0)\n",
      "Requirement already satisfied: tensorboard-data-server<0.7.0,>=0.6.0 in c:\\users\\piyush\\.conda\\envs\\py310\\lib\\site-packages (from tensorboard<2.11,>=2.10->tensorflow==2.10.0) (0.6.1)\n",
      "Requirement already satisfied: tensorboard-plugin-wit>=1.6.0 in c:\\users\\piyush\\.conda\\envs\\py310\\lib\\site-packages (from tensorboard<2.11,>=2.10->tensorflow==2.10.0) (1.8.1)\n",
      "Requirement already satisfied: werkzeug>=1.0.1 in c:\\users\\piyush\\.conda\\envs\\py310\\lib\\site-packages (from tensorboard<2.11,>=2.10->tensorflow==2.10.0) (3.0.1)\n",
      "Requirement already satisfied: cachetools<6.0,>=2.0.0 in c:\\users\\piyush\\.conda\\envs\\py310\\lib\\site-packages (from google-auth<3,>=1.6.3->tensorboard<2.11,>=2.10->tensorflow==2.10.0) (5.3.3)\n",
      "Requirement already satisfied: pyasn1-modules>=0.2.1 in c:\\users\\piyush\\.conda\\envs\\py310\\lib\\site-packages (from google-auth<3,>=1.6.3->tensorboard<2.11,>=2.10->tensorflow==2.10.0) (0.3.0)\n",
      "Requirement already satisfied: rsa<5,>=3.1.4 in c:\\users\\piyush\\.conda\\envs\\py310\\lib\\site-packages (from google-auth<3,>=1.6.3->tensorboard<2.11,>=2.10->tensorflow==2.10.0) (4.9)\n",
      "Requirement already satisfied: requests-oauthlib>=0.7.0 in c:\\users\\piyush\\.conda\\envs\\py310\\lib\\site-packages (from google-auth-oauthlib<0.5,>=0.4.1->tensorboard<2.11,>=2.10->tensorflow==2.10.0) (1.3.1)\n",
      "Requirement already satisfied: charset-normalizer<4,>=2 in c:\\users\\piyush\\.conda\\envs\\py310\\lib\\site-packages (from requests<3,>=2.21.0->tensorboard<2.11,>=2.10->tensorflow==2.10.0) (3.3.2)\n",
      "Requirement already satisfied: idna<4,>=2.5 in c:\\users\\piyush\\.conda\\envs\\py310\\lib\\site-packages (from requests<3,>=2.21.0->tensorboard<2.11,>=2.10->tensorflow==2.10.0) (3.6)\n",
      "Requirement already satisfied: urllib3<3,>=1.21.1 in c:\\users\\piyush\\.conda\\envs\\py310\\lib\\site-packages (from requests<3,>=2.21.0->tensorboard<2.11,>=2.10->tensorflow==2.10.0) (2.2.1)\n",
      "Requirement already satisfied: certifi>=2017.4.17 in c:\\users\\piyush\\.conda\\envs\\py310\\lib\\site-packages (from requests<3,>=2.21.0->tensorboard<2.11,>=2.10->tensorflow==2.10.0) (2024.2.2)\n",
      "Requirement already satisfied: MarkupSafe>=2.1.1 in c:\\users\\piyush\\.conda\\envs\\py310\\lib\\site-packages (from werkzeug>=1.0.1->tensorboard<2.11,>=2.10->tensorflow==2.10.0) (2.1.5)\n",
      "Requirement already satisfied: pyasn1<0.6.0,>=0.4.6 in c:\\users\\piyush\\.conda\\envs\\py310\\lib\\site-packages (from pyasn1-modules>=0.2.1->google-auth<3,>=1.6.3->tensorboard<2.11,>=2.10->tensorflow==2.10.0) (0.5.1)\n",
      "Requirement already satisfied: oauthlib>=3.0.0 in c:\\users\\piyush\\.conda\\envs\\py310\\lib\\site-packages (from requests-oauthlib>=0.7.0->google-auth-oauthlib<0.5,>=0.4.1->tensorboard<2.11,>=2.10->tensorflow==2.10.0) (3.2.2)\n",
      "Note: you may need to restart the kernel to use updated packages.\n"
     ]
    }
   ],
   "source": [
    "pip install tensorflow==2.10.0 tensorflow-gpu==2.10.0 opencv-python matplotlib\n"
   ]
  },
  {
   "cell_type": "markdown",
   "id": "8f25b422",
   "metadata": {},
   "source": [
    "### step-02, import dependecies"
   ]
  },
  {
   "cell_type": "code",
   "execution_count": 2,
   "id": "4465ded3",
   "metadata": {},
   "outputs": [],
   "source": [
    "import cv2 #computer vision, collecting images thorugh webcam\n",
    "import os\n",
    "import random\n",
    "import numpy as np#helps working with tensors, array transformation\n",
    "from matplotlib import pyplot as plt"
   ]
  },
  {
   "cell_type": "code",
   "execution_count": 3,
   "id": "a10eb692",
   "metadata": {},
   "outputs": [],
   "source": [
    "# Import tensorflow dependencies - Functional API\n",
    "from tensorflow.keras.models import Model # un, used to define input and output in model\n",
    "from tensorflow.keras.layers import Layer, Conv2D, Dense, MaxPooling2D, Input, Flatten\n",
    "import tensorflow as tf"
   ]
  },
  {
   "cell_type": "markdown",
   "id": "bbc03c8c",
   "metadata": {},
   "source": [
    "### step-03, setting GPU Growth"
   ]
  },
  {
   "cell_type": "code",
   "execution_count": 5,
   "id": "dcab2556",
   "metadata": {},
   "outputs": [],
   "source": [
    "#avoid oom errors by setting GPU memory COnsumption Growth\n",
    "gpus= tf.config.experimental.list_physical_devices('GPU')\n",
    "for gpu in gpus:\n",
    "    tf.config.experimental.set_memory_growth(gpu, True)"
   ]
  },
  {
   "cell_type": "markdown",
   "id": "735387fa",
   "metadata": {},
   "source": [
    "### step-4, create folder structures"
   ]
  },
  {
   "cell_type": "code",
   "execution_count": 7,
   "id": "eff9c0d8",
   "metadata": {},
   "outputs": [],
   "source": [
    "#setting up the paths\n",
    "\n",
    "POS_PATH= os.path.join('data', 'positive')\n",
    "NEG_PATH= os.path.join('data', 'negative')\n",
    "ANC_PATH= os.path.join('data', 'anchor')"
   ]
  },
  {
   "cell_type": "code",
   "execution_count": 9,
   "id": "f3518002",
   "metadata": {},
   "outputs": [],
   "source": [
    "#making directories\n",
    "os.makedirs(POS_PATH)\n",
    "os.makedirs(NEG_PATH)\n",
    "os.makedirs(ANC_PATH)"
   ]
  },
  {
   "cell_type": "markdown",
   "id": "913fbace",
   "metadata": {},
   "source": [
    "### 2. Collect Positives and Anchors"
   ]
  },
  {
   "cell_type": "code",
   "execution_count": null,
   "id": "9aff2de1",
   "metadata": {},
   "outputs": [],
   "source": []
  }
 ],
 "metadata": {
  "kernelspec": {
   "display_name": "Python 3 (ipykernel)",
   "language": "python",
   "name": "python3"
  },
  "language_info": {
   "codemirror_mode": {
    "name": "ipython",
    "version": 3
   },
   "file_extension": ".py",
   "mimetype": "text/x-python",
   "name": "python",
   "nbconvert_exporter": "python",
   "pygments_lexer": "ipython3",
   "version": "3.10.13"
  }
 },
 "nbformat": 4,
 "nbformat_minor": 5
}
